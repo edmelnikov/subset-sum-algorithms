{
 "cells": [
  {
   "cell_type": "code",
   "execution_count": 1,
   "id": "20775c37",
   "metadata": {},
   "outputs": [],
   "source": [
    "import math\n",
    "import random\n",
    "import numpy as np\n",
    "import time\n",
    "from numpy import polymul, pad, matmul\n",
    "from numpy.fft import rfft, irfft, rfftn, irfftn, rfft2, irfft2, fft, fft2, ifft2\n",
    "import math\n",
    "from statistics import median"
   ]
  },
  {
   "cell_type": "code",
   "execution_count": 5,
   "id": "42335231",
   "metadata": {},
   "outputs": [],
   "source": [
    "def generate_instance(left_bound, right_bound, num_int, target, out_filename, seed=42):\n",
    "    random.seed(seed)\n",
    "        \n",
    "    set_ = random.sample(range(left_bound, right_bound+1), num_int) # set of integers\n",
    "    set_.sort()\n",
    "    \n",
    "    if target > sum(set_):\n",
    "        print(\"--------------------------------------------------------------------------------\")\n",
    "        print(f\"Warning! Target {target} is unfeasible since it's too large (set sum is {sum(set_)})!\")\n",
    "        print(f\"Callback parameters: left_bound={left_bound}, right_bound={right_bound}, num_int={num_int}, target={target}, seed={seed}\")\n",
    "    \n",
    "    with open(out_filename, 'w', encoding='utf-8') as fout:\n",
    "        fout.write(' '.join(list(map(str, set_))))\n",
    "        fout.write('\\n')\n",
    "        fout.write(str(target))\n",
    "    \n",
    "    return set_, target\n",
    "\n",
    "# TEST\n",
    "instance = generate_instance(left_bound=1, right_bound=20000, num_int=1000, target=6900, out_filename=\"cpp_implementations/input.txt\")   "
   ]
  },
  {
   "cell_type": "code",
   "execution_count": 12,
   "id": "9c78f56f",
   "metadata": {},
   "outputs": [
    {
     "data": {
      "text/plain": [
       "['1', '2', '3']"
      ]
     },
     "execution_count": 12,
     "metadata": {},
     "output_type": "execute_result"
    }
   ],
   "source": [
    "list(map(str, [1, 2, 3]))"
   ]
  }
 ],
 "metadata": {
  "kernelspec": {
   "display_name": "Python 3 (ipykernel)",
   "language": "python",
   "name": "python3"
  },
  "language_info": {
   "codemirror_mode": {
    "name": "ipython",
    "version": 3
   },
   "file_extension": ".py",
   "mimetype": "text/x-python",
   "name": "python",
   "nbconvert_exporter": "python",
   "pygments_lexer": "ipython3",
   "version": "3.8.8"
  }
 },
 "nbformat": 4,
 "nbformat_minor": 5
}
