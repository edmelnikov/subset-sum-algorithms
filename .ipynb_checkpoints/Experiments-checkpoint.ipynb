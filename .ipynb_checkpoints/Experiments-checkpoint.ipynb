{
 "cells": [
  {
   "cell_type": "code",
   "execution_count": 44,
   "id": "20775c37",
   "metadata": {},
   "outputs": [],
   "source": [
    "import math\n",
    "import random\n",
    "import numpy as np\n",
    "import time\n",
    "from numpy import polymul, pad, matmul\n",
    "from numpy.fft import rfft, irfft, rfftn, irfftn, rfft2, irfft2, fft, fft2, ifft2\n",
    "import math\n",
    "from statistics import median\n",
    "import subprocess\n",
    "import matplotlib.pyplot as plt\n",
    "import matplotlib.gridspec as gridspec"
   ]
  },
  {
   "cell_type": "code",
   "execution_count": 19,
   "id": "42335231",
   "metadata": {},
   "outputs": [],
   "source": [
    "def generate_instance(left_bound, right_bound, num_int, target, out_filename, seed=None, verbose=False):\n",
    "    if seed is not None:\n",
    "        random.seed(seed)\n",
    "    \n",
    "    if verbose:\n",
    "        print(f\"Generating a set with {num_int} elements and target {target}...\")\n",
    "    set_ = random.sample(range(left_bound, right_bound+1), num_int) # set of integers\n",
    "    if verbose:\n",
    "        print(\"Sorting...\")\n",
    "    set_.sort()\n",
    "    \n",
    "#     if target > sum(set_):\n",
    "#         print(\"--------------------------------------------------------------------------------\")\n",
    "#         print(f\"Warning! Target {target} is unfeasible since it's too large (set sum is {sum(set_)})!\")\n",
    "#         print(f\"Callback parameters: left_bound={left_bound}, right_bound={right_bound}, num_int={num_int}, target={target}, seed={seed}\")\n",
    "    \n",
    "    with open(out_filename, 'w', encoding='utf-8') as fout:\n",
    "        fout.write(' '.join(list(map(str, set_))))\n",
    "        fout.write('\\n')\n",
    "        fout.write(str(target))\n",
    "    if verbose:\n",
    "        print(\"Done\")\n",
    "    return set_, target\n",
    "\n",
    "# TEST\n",
    "instance = generate_instance(left_bound=1000, right_bound=10000, num_int=100, target=10000, out_filename=\"cpp_implementations/input.txt\")   "
   ]
  },
  {
   "cell_type": "markdown",
   "id": "b1805cc5",
   "metadata": {},
   "source": [
    "Run c++ code"
   ]
  },
  {
   "cell_type": "code",
   "execution_count": 13,
   "id": "9c78f56f",
   "metadata": {},
   "outputs": [],
   "source": [
    "# run cpp implementation of the algorithm \n",
    "def run_cpp_impl(alg_name, \n",
    "                 num_experiments,\n",
    "                 exe_path = \"x64\\Release\\cpp_implementations.exe\",\n",
    "                 alg_fin_path = \"cpp_implementations\\input.txt\",\n",
    "                 alg_fout_path = \"cpp_implementations\\output.txt\",\n",
    "                 verbose=False):\n",
    "    if verbose:\n",
    "        print(f\"Running {alg_name}'s algorithm...\")\n",
    "    run = subprocess.run([exe_path, alg_fin_path, alg_fout_path, alg_name, str(num_experiments)])\n",
    "    \n",
    "    if run.returncode == 0:\n",
    "        with open(alg_fout_path) as fout:\n",
    "            res = fout.readline()\n",
    "            time = fout.readline()\n",
    "        if verbose:\n",
    "            print(f\"Done. Solution: {res}\\n Time: {time}\\n\")\n",
    "        return int(res), float(time)\n",
    "    else:\n",
    "        print(\"Error!\")\n",
    "        return None\n",
    "# res = run_cpp_impl(\"bringmann\", 1)  "
   ]
  },
  {
   "cell_type": "code",
   "execution_count": 65,
   "id": "2d6e42c7",
   "metadata": {
    "scrolled": true
   },
   "outputs": [
    {
     "name": "stdout",
     "output_type": "stream",
     "text": [
      "Generating a set with 100 elements and target 1000...\n",
      "Sorting...\n",
      "Done\n",
      "Running bellman's algorithm...\n",
      "Done. Solution: 1\n",
      "\n",
      " Time: 0.1434\n",
      "\n",
      "\n",
      "Running bringmann's algorithm...\n",
      "Done. Solution: 1\n",
      "\n",
      " Time: 75.9534\n",
      "\n",
      "\n",
      "Generating a set with 300 elements and target 3000...\n",
      "Sorting...\n",
      "Done\n",
      "Running bellman's algorithm...\n",
      "Done. Solution: 1\n",
      "\n",
      " Time: 2.0405\n",
      "\n",
      "\n",
      "Running bringmann's algorithm...\n",
      "Done. Solution: 1\n",
      "\n",
      " Time: 425.944\n",
      "\n",
      "\n",
      "Generating a set with 500 elements and target 5000...\n",
      "Sorting...\n",
      "Done\n",
      "Running bellman's algorithm...\n",
      "Done. Solution: 1\n",
      "\n",
      " Time: 3.9181\n",
      "\n",
      "\n",
      "Running bringmann's algorithm...\n",
      "Done. Solution: 1\n",
      "\n",
      " Time: 1454.28\n",
      "\n",
      "\n",
      "Generating a set with 700 elements and target 7000...\n",
      "Sorting...\n",
      "Done\n",
      "Running bellman's algorithm...\n",
      "Done. Solution: 1\n",
      "\n",
      " Time: 7.4211\n",
      "\n",
      "\n",
      "Running bringmann's algorithm...\n",
      "Done. Solution: 1\n",
      "\n",
      " Time: 2408.4\n",
      "\n",
      "\n",
      "Generating a set with 900 elements and target 9000...\n",
      "Sorting...\n",
      "Done\n",
      "Running bellman's algorithm...\n",
      "Done. Solution: 1\n",
      "\n",
      " Time: 37.4738\n",
      "\n",
      "\n",
      "Running bringmann's algorithm...\n",
      "Done. Solution: 1\n",
      "\n",
      " Time: 3966.3\n",
      "\n",
      "\n",
      "Generating a set with 1100 elements and target 11000...\n",
      "Sorting...\n",
      "Done\n",
      "Running bellman's algorithm...\n",
      "Done. Solution: 1\n",
      "\n",
      " Time: 20.3455\n",
      "\n",
      "\n",
      "Running bringmann's algorithm...\n",
      "Done. Solution: 1\n",
      "\n",
      " Time: 6597.11\n",
      "\n",
      "\n",
      "Generating a set with 1300 elements and target 13000...\n",
      "Sorting...\n",
      "Done\n",
      "Running bellman's algorithm...\n",
      "Done. Solution: 1\n",
      "\n",
      " Time: 27.1473\n",
      "\n",
      "\n",
      "Running bringmann's algorithm...\n",
      "Done. Solution: 1\n",
      "\n",
      " Time: 12742\n",
      "\n",
      "\n",
      "Generating a set with 1500 elements and target 15000...\n",
      "Sorting...\n",
      "Done\n",
      "Running bellman's algorithm...\n",
      "Done. Solution: 1\n",
      "\n",
      " Time: 37.9179\n",
      "\n",
      "\n",
      "Running bringmann's algorithm...\n",
      "Done. Solution: 1\n",
      "\n",
      " Time: 37804.2\n",
      "\n",
      "\n",
      "Generating a set with 1700 elements and target 17000...\n",
      "Sorting...\n",
      "Done\n",
      "Running bellman's algorithm...\n",
      "Done. Solution: 1\n",
      "\n",
      " Time: 48.6996\n",
      "\n",
      "\n",
      "Running bringmann's algorithm...\n",
      "Done. Solution: 1\n",
      "\n",
      " Time: 52292.8\n",
      "\n",
      "\n"
     ]
    },
    {
     "data": {
      "text/plain": [
       "[75.9534, 425.944, 1454.28, 2408.4, 3966.3, 6597.11, 12742.0, 37804.2, 52292.8]"
      ]
     },
     "execution_count": 65,
     "metadata": {},
     "output_type": "execute_result"
    }
   ],
   "source": [
    "bellman_solutions = []\n",
    "bellman_times = []\n",
    "bringmann_solutions = []\n",
    "bringmann_times = []\n",
    "params = range(100, 1900, 200)\n",
    "\n",
    "for param in params:\n",
    "    right_bound = param*10\n",
    "    num_int = param\n",
    "    target = 10*param \n",
    "    \n",
    "    generate_instance(left_bound=1,\n",
    "                      right_bound=right_bound,\n",
    "                      num_int=num_int,\n",
    "                      target=target, \n",
    "                      out_filename=\"cpp_implementations/input.txt\",\n",
    "                      verbose=True)\n",
    "    \n",
    "    bellman_times.append(run_cpp_impl(\"bellman\", 1,\n",
    "                                      alg_fin_path=\"cpp_implementations/input.txt\", verbose=True)[1])\n",
    "    bringmann_times.append(run_cpp_impl(\"bringmann\", 1,\n",
    "                                      alg_fin_path=\"cpp_implementations/input.txt\", verbose=True)[1])\n",
    "bellman_times\n",
    "bringmann_times"
   ]
  },
  {
   "cell_type": "code",
   "execution_count": 66,
   "id": "06f05c8b",
   "metadata": {},
   "outputs": [
    {
     "data": {
      "image/png": "[encoded data removed]",
      "text/plain": [
       "<Figure size 720x576 with 1 Axes>"
      ]
     },
     "metadata": {
      "needs_background": "light"
     },
     "output_type": "display_data"
    }
   ],
   "source": [
    "fig, ax = plt.subplots(figsize=(10, 8))\n",
    "ax.plot(params, bellman_times, color=\"tab:blue\", label=\"Dynamic\")\n",
    "ax.plot(params, bringmann_times, color=\"tab:orange\", label=\"Bringmann\")\n",
    "\n",
    "ax.set_xlabel(\"Parameter\")\n",
    "ax.set_ylabel(\"Time (ms)\")\n",
    "ax.grid()\n",
    "ax.legend()\n",
    "plt.show()"
   ]
  },
  {
   "cell_type": "code",
   "execution_count": 67,
   "id": "69342c42",
   "metadata": {},
   "outputs": [
    {
     "data": {
      "image/png": "[encoded data removed]",
      "text/plain": [
       "<Figure size 1080x360 with 2 Axes>"
      ]
     },
     "metadata": {
      "needs_background": "light"
     },
     "output_type": "display_data"
    }
   ],
   "source": [
    "fig, ax = plt.subplots(1, 2, figsize=(15, 5))\n",
    "ax[0].plot(params, bellman_times, color=\"tab:blue\", label=\"Dynamic\")\n",
    "ax[0].set_xlabel(\"Parameter\")\n",
    "ax[0].set_ylabel(\"Time (ms)\")\n",
    "ax[0].grid()\n",
    "ax[0].legend()\n",
    "\n",
    "ax[1].plot(params, bringmann_times, color=\"tab:orange\", label=\"Bringmann\")\n",
    "ax[1].set_xlabel(\"Parameter\")\n",
    "ax[1].set_ylabel(\"Time (ms)\")\n",
    "ax[1].grid()\n",
    "ax[1].legend()\n",
    "\n",
    "plt.show()"
   ]
  },
  {
   "cell_type": "code",
   "execution_count": null,
   "id": "1b9bc642",
   "metadata": {},
   "outputs": [],
   "source": []
  }
 ],
 "metadata": {
  "kernelspec": {
   "display_name": "Python 3 (ipykernel)",
   "language": "python",
   "name": "python3"
  },
  "language_info": {
   "codemirror_mode": {
    "name": "ipython",
    "version": 3
   },
   "file_extension": ".py",
   "mimetype": "text/x-python",
   "name": "python",
   "nbconvert_exporter": "python",
   "pygments_lexer": "ipython3",
   "version": "3.8.8"
  }
 },
 "nbformat": 4,
 "nbformat_minor": 5
}
